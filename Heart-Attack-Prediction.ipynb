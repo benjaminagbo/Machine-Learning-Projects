{
 "cells": [
  {
   "cell_type": "markdown",
   "metadata": {},
   "source": [
    "## Naive Bayes Algorithm"
   ]
  },
  {
   "cell_type": "markdown",
   "metadata": {},
   "source": [
    "### Step 1. Import the Libraries"
   ]
  },
  {
   "cell_type": "code",
   "execution_count": 1,
   "metadata": {},
   "outputs": [],
   "source": [
    "import numpy as np\n",
    "import pandas as pd\n",
    "import matplotlib.pyplot as plt"
   ]
  },
  {
   "cell_type": "markdown",
   "metadata": {},
   "source": [
    "### Step 2: Import the Datasets"
   ]
  },
  {
   "cell_type": "code",
   "execution_count": 3,
   "metadata": {},
   "outputs": [],
   "source": [
    "df=pd.read_csv(\"Heart _Attack.csv\")"
   ]
  },
  {
   "cell_type": "code",
   "execution_count": 4,
   "metadata": {},
   "outputs": [
    {
     "data": {
      "text/html": [
       "<div>\n",
       "<style scoped>\n",
       "    .dataframe tbody tr th:only-of-type {\n",
       "        vertical-align: middle;\n",
       "    }\n",
       "\n",
       "    .dataframe tbody tr th {\n",
       "        vertical-align: top;\n",
       "    }\n",
       "\n",
       "    .dataframe thead th {\n",
       "        text-align: right;\n",
       "    }\n",
       "</style>\n",
       "<table border=\"1\" class=\"dataframe\">\n",
       "  <thead>\n",
       "    <tr style=\"text-align: right;\">\n",
       "      <th></th>\n",
       "      <th>age</th>\n",
       "      <th>sex</th>\n",
       "      <th>cp</th>\n",
       "      <th>trestbps</th>\n",
       "      <th>chol</th>\n",
       "      <th>fbs</th>\n",
       "      <th>restecg</th>\n",
       "      <th>thalach</th>\n",
       "      <th>exang</th>\n",
       "      <th>oldpeak</th>\n",
       "      <th>slope</th>\n",
       "      <th>ca</th>\n",
       "      <th>thal</th>\n",
       "      <th>target</th>\n",
       "    </tr>\n",
       "  </thead>\n",
       "  <tbody>\n",
       "    <tr>\n",
       "      <th>0</th>\n",
       "      <td>63</td>\n",
       "      <td>1</td>\n",
       "      <td>3</td>\n",
       "      <td>145</td>\n",
       "      <td>233</td>\n",
       "      <td>1</td>\n",
       "      <td>0</td>\n",
       "      <td>150</td>\n",
       "      <td>0</td>\n",
       "      <td>2.3</td>\n",
       "      <td>0</td>\n",
       "      <td>0</td>\n",
       "      <td>1</td>\n",
       "      <td>1</td>\n",
       "    </tr>\n",
       "    <tr>\n",
       "      <th>1</th>\n",
       "      <td>37</td>\n",
       "      <td>1</td>\n",
       "      <td>2</td>\n",
       "      <td>130</td>\n",
       "      <td>250</td>\n",
       "      <td>0</td>\n",
       "      <td>1</td>\n",
       "      <td>187</td>\n",
       "      <td>0</td>\n",
       "      <td>3.5</td>\n",
       "      <td>0</td>\n",
       "      <td>0</td>\n",
       "      <td>2</td>\n",
       "      <td>1</td>\n",
       "    </tr>\n",
       "    <tr>\n",
       "      <th>2</th>\n",
       "      <td>41</td>\n",
       "      <td>0</td>\n",
       "      <td>1</td>\n",
       "      <td>130</td>\n",
       "      <td>204</td>\n",
       "      <td>0</td>\n",
       "      <td>0</td>\n",
       "      <td>172</td>\n",
       "      <td>0</td>\n",
       "      <td>1.4</td>\n",
       "      <td>2</td>\n",
       "      <td>0</td>\n",
       "      <td>2</td>\n",
       "      <td>1</td>\n",
       "    </tr>\n",
       "    <tr>\n",
       "      <th>3</th>\n",
       "      <td>56</td>\n",
       "      <td>1</td>\n",
       "      <td>1</td>\n",
       "      <td>120</td>\n",
       "      <td>236</td>\n",
       "      <td>0</td>\n",
       "      <td>1</td>\n",
       "      <td>178</td>\n",
       "      <td>0</td>\n",
       "      <td>0.8</td>\n",
       "      <td>2</td>\n",
       "      <td>0</td>\n",
       "      <td>2</td>\n",
       "      <td>1</td>\n",
       "    </tr>\n",
       "    <tr>\n",
       "      <th>4</th>\n",
       "      <td>57</td>\n",
       "      <td>0</td>\n",
       "      <td>0</td>\n",
       "      <td>120</td>\n",
       "      <td>354</td>\n",
       "      <td>0</td>\n",
       "      <td>1</td>\n",
       "      <td>163</td>\n",
       "      <td>1</td>\n",
       "      <td>0.6</td>\n",
       "      <td>2</td>\n",
       "      <td>0</td>\n",
       "      <td>2</td>\n",
       "      <td>1</td>\n",
       "    </tr>\n",
       "  </tbody>\n",
       "</table>\n",
       "</div>"
      ],
      "text/plain": [
       "   age  sex  cp  trestbps  chol  fbs  restecg  thalach  exang  oldpeak  slope  \\\n",
       "0   63    1   3       145   233    1        0      150      0      2.3      0   \n",
       "1   37    1   2       130   250    0        1      187      0      3.5      0   \n",
       "2   41    0   1       130   204    0        0      172      0      1.4      2   \n",
       "3   56    1   1       120   236    0        1      178      0      0.8      2   \n",
       "4   57    0   0       120   354    0        1      163      1      0.6      2   \n",
       "\n",
       "   ca  thal  target  \n",
       "0   0     1       1  \n",
       "1   0     2       1  \n",
       "2   0     2       1  \n",
       "3   0     2       1  \n",
       "4   0     2       1  "
      ]
     },
     "execution_count": 4,
     "metadata": {},
     "output_type": "execute_result"
    }
   ],
   "source": [
    "df.head()"
   ]
  },
  {
   "cell_type": "code",
   "execution_count": 35,
   "metadata": {},
   "outputs": [
    {
     "name": "stdout",
     "output_type": "stream",
     "text": [
      "<class 'pandas.core.frame.DataFrame'>\n",
      "RangeIndex: 303 entries, 0 to 302\n",
      "Data columns (total 14 columns):\n",
      " #   Column    Non-Null Count  Dtype  \n",
      "---  ------    --------------  -----  \n",
      " 0   age       303 non-null    int64  \n",
      " 1   sex       303 non-null    int64  \n",
      " 2   cp        303 non-null    int64  \n",
      " 3   trestbps  303 non-null    int64  \n",
      " 4   chol      303 non-null    int64  \n",
      " 5   fbs       303 non-null    int64  \n",
      " 6   restecg   303 non-null    int64  \n",
      " 7   thalach   303 non-null    int64  \n",
      " 8   exang     303 non-null    int64  \n",
      " 9   oldpeak   303 non-null    float64\n",
      " 10  slope     303 non-null    int64  \n",
      " 11  ca        303 non-null    int64  \n",
      " 12  thal      303 non-null    int64  \n",
      " 13  target    303 non-null    int64  \n",
      "dtypes: float64(1), int64(13)\n",
      "memory usage: 33.3 KB\n"
     ]
    }
   ],
   "source": [
    "df.info()"
   ]
  },
  {
   "cell_type": "markdown",
   "metadata": {},
   "source": [
    "### Step 3: Splitting the Dataset into the Training Set and Test Set"
   ]
  },
  {
   "cell_type": "code",
   "execution_count": 53,
   "metadata": {},
   "outputs": [],
   "source": [
    "x=df[['chol','thalach']].values\n",
    "y=df.iloc[:,-1].values"
   ]
  },
  {
   "cell_type": "code",
   "execution_count": 54,
   "metadata": {},
   "outputs": [
    {
     "data": {
      "text/plain": [
       "array([[233, 150],\n",
       "       [250, 187],\n",
       "       [204, 172],\n",
       "       [236, 178],\n",
       "       [354, 163],\n",
       "       [192, 148],\n",
       "       [294, 153],\n",
       "       [263, 173],\n",
       "       [199, 162],\n",
       "       [168, 174],\n",
       "       [239, 160],\n",
       "       [275, 139],\n",
       "       [266, 171],\n",
       "       [211, 144],\n",
       "       [283, 162],\n",
       "       [219, 158],\n",
       "       [340, 172],\n",
       "       [226, 114],\n",
       "       [247, 171],\n",
       "       [239, 151],\n",
       "       [234, 161],\n",
       "       [233, 179],\n",
       "       [226, 178],\n",
       "       [243, 137],\n",
       "       [199, 178],\n",
       "       [302, 162],\n",
       "       [212, 157],\n",
       "       [175, 123],\n",
       "       [417, 157],\n",
       "       [197, 152],\n",
       "       [198, 168],\n",
       "       [177, 140],\n",
       "       [219, 188],\n",
       "       [273, 152],\n",
       "       [213, 125],\n",
       "       [177, 160],\n",
       "       [304, 170],\n",
       "       [232, 165],\n",
       "       [269, 148],\n",
       "       [360, 151],\n",
       "       [308, 142],\n",
       "       [245, 180],\n",
       "       [208, 148],\n",
       "       [264, 143],\n",
       "       [321, 182],\n",
       "       [325, 172],\n",
       "       [235, 180],\n",
       "       [257, 156],\n",
       "       [216, 115],\n",
       "       [234, 160],\n",
       "       [256, 149],\n",
       "       [302, 151],\n",
       "       [231, 146],\n",
       "       [141, 175],\n",
       "       [252, 172],\n",
       "       [201, 158],\n",
       "       [222, 186],\n",
       "       [260, 185],\n",
       "       [182, 174],\n",
       "       [303, 159],\n",
       "       [265, 130],\n",
       "       [309, 156],\n",
       "       [186, 190],\n",
       "       [203, 132],\n",
       "       [211, 165],\n",
       "       [183, 182],\n",
       "       [222, 143],\n",
       "       [234, 175],\n",
       "       [220, 170],\n",
       "       [209, 163],\n",
       "       [258, 147],\n",
       "       [227, 154],\n",
       "       [204, 202],\n",
       "       [261, 186],\n",
       "       [213, 165],\n",
       "       [250, 161],\n",
       "       [245, 166],\n",
       "       [221, 164],\n",
       "       [205, 184],\n",
       "       [240, 154],\n",
       "       [250, 179],\n",
       "       [308, 170],\n",
       "       [318, 160],\n",
       "       [298, 178],\n",
       "       [265, 122],\n",
       "       [564, 160],\n",
       "       [277, 151],\n",
       "       [197, 156],\n",
       "       [214, 158],\n",
       "       [248, 122],\n",
       "       [255, 175],\n",
       "       [207, 168],\n",
       "       [223, 169],\n",
       "       [288, 159],\n",
       "       [160, 138],\n",
       "       [226, 111],\n",
       "       [394, 157],\n",
       "       [233, 147],\n",
       "       [315, 162],\n",
       "       [246, 173],\n",
       "       [244, 178],\n",
       "       [270, 145],\n",
       "       [195, 179],\n",
       "       [240, 194],\n",
       "       [196, 163],\n",
       "       [211, 115],\n",
       "       [234, 131],\n",
       "       [236, 152],\n",
       "       [244, 162],\n",
       "       [254, 159],\n",
       "       [325, 154],\n",
       "       [126, 173],\n",
       "       [313, 133],\n",
       "       [211, 161],\n",
       "       [262, 155],\n",
       "       [215, 170],\n",
       "       [214, 168],\n",
       "       [193, 162],\n",
       "       [204, 172],\n",
       "       [243, 152],\n",
       "       [303, 122],\n",
       "       [271, 182],\n",
       "       [268, 172],\n",
       "       [267, 167],\n",
       "       [199, 179],\n",
       "       [210, 192],\n",
       "       [204, 143],\n",
       "       [277, 172],\n",
       "       [196, 169],\n",
       "       [269, 121],\n",
       "       [201, 163],\n",
       "       [271, 162],\n",
       "       [295, 162],\n",
       "       [235, 153],\n",
       "       [306, 163],\n",
       "       [269, 163],\n",
       "       [178,  96],\n",
       "       [208, 140],\n",
       "       [201, 126],\n",
       "       [263, 105],\n",
       "       [295, 157],\n",
       "       [303, 181],\n",
       "       [209, 173],\n",
       "       [223, 142],\n",
       "       [197, 116],\n",
       "       [245, 143],\n",
       "       [242, 149],\n",
       "       [240, 171],\n",
       "       [226, 169],\n",
       "       [180, 150],\n",
       "       [228, 138],\n",
       "       [149, 125],\n",
       "       [227, 155],\n",
       "       [278, 152],\n",
       "       [220, 152],\n",
       "       [197, 131],\n",
       "       [253, 179],\n",
       "       [192, 174],\n",
       "       [220, 144],\n",
       "       [221, 163],\n",
       "       [240, 169],\n",
       "       [342, 166],\n",
       "       [157, 182],\n",
       "       [175, 173],\n",
       "       [175, 173],\n",
       "       [286, 108],\n",
       "       [229, 129],\n",
       "       [268, 160],\n",
       "       [254, 147],\n",
       "       [203, 155],\n",
       "       [256, 142],\n",
       "       [229, 168],\n",
       "       [284, 160],\n",
       "       [224, 173],\n",
       "       [206, 132],\n",
       "       [167, 114],\n",
       "       [230, 160],\n",
       "       [335, 158],\n",
       "       [177, 120],\n",
       "       [276, 112],\n",
       "       [353, 132],\n",
       "       [225, 114],\n",
       "       [330, 169],\n",
       "       [230, 165],\n",
       "       [243, 128],\n",
       "       [290, 153],\n",
       "       [253, 144],\n",
       "       [266, 109],\n",
       "       [233, 163],\n",
       "       [172, 158],\n",
       "       [305, 142],\n",
       "       [216, 131],\n",
       "       [188, 113],\n",
       "       [282, 142],\n",
       "       [185, 155],\n",
       "       [326, 140],\n",
       "       [231, 147],\n",
       "       [254, 163],\n",
       "       [267,  99],\n",
       "       [248, 158],\n",
       "       [197, 177],\n",
       "       [258, 141],\n",
       "       [270, 111],\n",
       "       [274, 150],\n",
       "       [164, 145],\n",
       "       [255, 161],\n",
       "       [239, 142],\n",
       "       [258, 157],\n",
       "       [188, 139],\n",
       "       [177, 162],\n",
       "       [229, 150],\n",
       "       [260, 140],\n",
       "       [219, 140],\n",
       "       [307, 146],\n",
       "       [249, 144],\n",
       "       [341, 136],\n",
       "       [263,  97],\n",
       "       [330, 132],\n",
       "       [254, 127],\n",
       "       [256, 150],\n",
       "       [407, 154],\n",
       "       [217, 111],\n",
       "       [282, 174],\n",
       "       [288, 133],\n",
       "       [239, 126],\n",
       "       [174, 125],\n",
       "       [281, 103],\n",
       "       [198, 130],\n",
       "       [288, 159],\n",
       "       [309, 131],\n",
       "       [243, 152],\n",
       "       [289, 124],\n",
       "       [289, 145],\n",
       "       [246,  96],\n",
       "       [322, 109],\n",
       "       [299, 173],\n",
       "       [300, 171],\n",
       "       [293, 170],\n",
       "       [304, 162],\n",
       "       [282, 156],\n",
       "       [269, 112],\n",
       "       [249, 143],\n",
       "       [212, 132],\n",
       "       [274,  88],\n",
       "       [184, 105],\n",
       "       [274, 166],\n",
       "       [409, 150],\n",
       "       [246, 120],\n",
       "       [283, 195],\n",
       "       [254, 146],\n",
       "       [298, 122],\n",
       "       [247, 143],\n",
       "       [294, 106],\n",
       "       [299, 125],\n",
       "       [273, 125],\n",
       "       [309, 147],\n",
       "       [259, 130],\n",
       "       [200, 126],\n",
       "       [244, 154],\n",
       "       [231, 182],\n",
       "       [228, 165],\n",
       "       [230, 160],\n",
       "       [282,  95],\n",
       "       [269, 169],\n",
       "       [206, 108],\n",
       "       [212, 132],\n",
       "       [327, 117],\n",
       "       [149, 126],\n",
       "       [286, 116],\n",
       "       [283, 103],\n",
       "       [249, 144],\n",
       "       [234, 145],\n",
       "       [237,  71],\n",
       "       [234, 156],\n",
       "       [275, 118],\n",
       "       [212, 168],\n",
       "       [218, 105],\n",
       "       [261, 141],\n",
       "       [319, 152],\n",
       "       [166, 125],\n",
       "       [315, 125],\n",
       "       [204, 156],\n",
       "       [218, 134],\n",
       "       [223, 181],\n",
       "       [207, 138],\n",
       "       [311, 120],\n",
       "       [204, 162],\n",
       "       [232, 164],\n",
       "       [335, 143],\n",
       "       [205, 130],\n",
       "       [203, 161],\n",
       "       [318, 140],\n",
       "       [225, 146],\n",
       "       [212, 150],\n",
       "       [169, 144],\n",
       "       [187, 144],\n",
       "       [197, 136],\n",
       "       [176,  90],\n",
       "       [241, 123],\n",
       "       [264, 132],\n",
       "       [193, 141],\n",
       "       [131, 115],\n",
       "       [236, 174]], dtype=int64)"
      ]
     },
     "execution_count": 54,
     "metadata": {},
     "output_type": "execute_result"
    }
   ],
   "source": [
    "x"
   ]
  },
  {
   "cell_type": "code",
   "execution_count": 55,
   "metadata": {},
   "outputs": [],
   "source": [
    "from sklearn.model_selection import train_test_split\n",
    "x_train, x_test, y_train, y_test=train_test_split(x,y, test_size=0.25, random_state=0)"
   ]
  },
  {
   "cell_type": "markdown",
   "metadata": {},
   "source": [
    "### Step 4: Feature Scaling"
   ]
  },
  {
   "cell_type": "code",
   "execution_count": 69,
   "metadata": {},
   "outputs": [],
   "source": [
    "from sklearn.preprocessing import StandardScaler\n",
    "sc=StandardScaler()\n",
    "x_train=sc.fit_transform(x_train)\n",
    "x_test=sc.transform(x_test)"
   ]
  },
  {
   "cell_type": "markdown",
   "metadata": {},
   "source": [
    "### Step 5: Training the Naive Bayes model on the Training set - GAUSSIAN CLASSIFIER & BERNOULLI CLASSIFIER"
   ]
  },
  {
   "cell_type": "code",
   "execution_count": 75,
   "metadata": {},
   "outputs": [
    {
     "data": {
      "text/plain": [
       "BernoulliNB()"
      ]
     },
     "execution_count": 75,
     "metadata": {},
     "output_type": "execute_result"
    }
   ],
   "source": [
    "from sklearn.naive_bayes import GaussianNB, BernoulliNB\n",
    "gnb=GaussianNB()\n",
    "bnb=BernoulliNB()\n",
    "gnb.fit(x_train, y_train)\n",
    "bnb.fit(x_train, y_train)"
   ]
  },
  {
   "cell_type": "markdown",
   "metadata": {},
   "source": [
    "### Step 6: Predicting a New Result"
   ]
  },
  {
   "cell_type": "code",
   "execution_count": 76,
   "metadata": {},
   "outputs": [
    {
     "name": "stdout",
     "output_type": "stream",
     "text": [
      "[1]\n"
     ]
    }
   ],
   "source": [
    "print(gnb.predict(sc.transform([[240,160]])))"
   ]
  },
  {
   "cell_type": "code",
   "execution_count": 77,
   "metadata": {},
   "outputs": [
    {
     "name": "stdout",
     "output_type": "stream",
     "text": [
      "[1]\n"
     ]
    }
   ],
   "source": [
    "print(bnb.predict(sc.transform([[240,160]])))"
   ]
  },
  {
   "cell_type": "markdown",
   "metadata": {},
   "source": [
    "### Step 7: Predicting the Test Set Results"
   ]
  },
  {
   "cell_type": "code",
   "execution_count": 78,
   "metadata": {},
   "outputs": [],
   "source": [
    "y_pred_1=gnb.predict(x_test)\n",
    "y_pred_2=bnb.predict(x_test)"
   ]
  },
  {
   "cell_type": "code",
   "execution_count": 79,
   "metadata": {},
   "outputs": [
    {
     "name": "stdout",
     "output_type": "stream",
     "text": [
      "[[0 0]\n",
      " [1 1]\n",
      " [1 0]\n",
      " [0 0]\n",
      " [1 1]\n",
      " [1 0]\n",
      " [0 0]\n",
      " [1 0]\n",
      " [0 0]\n",
      " [0 0]\n",
      " [1 1]\n",
      " [1 1]\n",
      " [0 0]\n",
      " [1 1]\n",
      " [1 1]\n",
      " [0 1]\n",
      " [1 1]\n",
      " [1 1]\n",
      " [0 0]\n",
      " [1 1]\n",
      " [1 1]\n",
      " [0 0]\n",
      " [0 0]\n",
      " [0 0]\n",
      " [1 1]\n",
      " [0 0]\n",
      " [1 0]\n",
      " [0 0]\n",
      " [1 1]\n",
      " [1 1]\n",
      " [1 0]\n",
      " [1 0]\n",
      " [1 1]\n",
      " [1 1]\n",
      " [1 1]\n",
      " [0 0]\n",
      " [0 0]\n",
      " [1 1]\n",
      " [0 0]\n",
      " [1 0]\n",
      " [1 1]\n",
      " [1 1]\n",
      " [1 1]\n",
      " [0 0]\n",
      " [0 1]\n",
      " [0 1]\n",
      " [1 1]\n",
      " [1 0]\n",
      " [1 0]\n",
      " [1 1]\n",
      " [1 1]\n",
      " [0 1]\n",
      " [1 1]\n",
      " [0 1]\n",
      " [1 1]\n",
      " [0 0]\n",
      " [1 1]\n",
      " [1 0]\n",
      " [1 1]\n",
      " [1 1]\n",
      " [0 1]\n",
      " [1 1]\n",
      " [1 1]\n",
      " [1 1]\n",
      " [0 0]\n",
      " [1 0]\n",
      " [1 0]\n",
      " [1 0]\n",
      " [1 1]\n",
      " [1 1]\n",
      " [1 1]\n",
      " [1 1]\n",
      " [1 1]\n",
      " [0 0]\n",
      " [0 0]\n",
      " [0 1]]\n"
     ]
    }
   ],
   "source": [
    "print(np.concatenate((y_pred_1.reshape(len(y_pred_1),1),y_test.reshape(len(y_test),1)),1))"
   ]
  },
  {
   "cell_type": "code",
   "execution_count": 80,
   "metadata": {},
   "outputs": [
    {
     "name": "stdout",
     "output_type": "stream",
     "text": [
      "[[0 0]\n",
      " [1 1]\n",
      " [1 0]\n",
      " [0 0]\n",
      " [0 1]\n",
      " [1 0]\n",
      " [0 0]\n",
      " [0 0]\n",
      " [0 0]\n",
      " [0 0]\n",
      " [1 1]\n",
      " [1 1]\n",
      " [0 0]\n",
      " [1 1]\n",
      " [1 1]\n",
      " [0 1]\n",
      " [0 1]\n",
      " [1 1]\n",
      " [0 0]\n",
      " [1 1]\n",
      " [1 1]\n",
      " [0 0]\n",
      " [0 0]\n",
      " [0 0]\n",
      " [1 1]\n",
      " [0 0]\n",
      " [1 0]\n",
      " [0 0]\n",
      " [1 1]\n",
      " [1 1]\n",
      " [1 0]\n",
      " [0 0]\n",
      " [1 1]\n",
      " [1 1]\n",
      " [1 1]\n",
      " [0 0]\n",
      " [0 0]\n",
      " [1 1]\n",
      " [0 0]\n",
      " [1 0]\n",
      " [0 1]\n",
      " [1 1]\n",
      " [1 1]\n",
      " [0 0]\n",
      " [0 1]\n",
      " [0 1]\n",
      " [1 1]\n",
      " [1 0]\n",
      " [1 0]\n",
      " [1 1]\n",
      " [1 1]\n",
      " [0 1]\n",
      " [1 1]\n",
      " [0 1]\n",
      " [1 1]\n",
      " [0 0]\n",
      " [0 1]\n",
      " [1 0]\n",
      " [1 1]\n",
      " [1 1]\n",
      " [0 1]\n",
      " [1 1]\n",
      " [1 1]\n",
      " [1 1]\n",
      " [0 0]\n",
      " [1 0]\n",
      " [1 0]\n",
      " [1 0]\n",
      " [0 1]\n",
      " [1 1]\n",
      " [1 1]\n",
      " [1 1]\n",
      " [1 1]\n",
      " [0 0]\n",
      " [0 0]\n",
      " [0 1]]\n"
     ]
    }
   ],
   "source": [
    "print(np.concatenate((y_pred_2.reshape(len(y_pred_2),1),y_test.reshape(len(y_test),1)),1))"
   ]
  },
  {
   "cell_type": "markdown",
   "metadata": {},
   "source": [
    "### Step 8: Making the Confusion Matrix"
   ]
  },
  {
   "cell_type": "code",
   "execution_count": 89,
   "metadata": {},
   "outputs": [
    {
     "name": "stdout",
     "output_type": "stream",
     "text": [
      "[[20 13]\n",
      " [ 7 36]]\n",
      "accuracy_score :  0.7368421052631579\n",
      "precision_score :  0.7346938775510204\n",
      "recall_score :  0.8372093023255814\n",
      "f1_score :  0.782608695652174\n"
     ]
    },
    {
     "data": {
      "image/png": "[encoded data removed]",
      "text/plain": [
       "<Figure size 432x288 with 2 Axes>"
      ]
     },
     "metadata": {
      "needs_background": "light"
     },
     "output_type": "display_data"
    }
   ],
   "source": [
    "from sklearn.metrics import confusion_matrix, accuracy_score ,precision_score, recall_score, f1_score\n",
    "import seaborn as sn\n",
    "cm_1=confusion_matrix(y_test, y_pred_1)\n",
    "print(cm_1)\n",
    "sn.heatmap(cm_1,annot=True)\n",
    "plt.title('Heatmap cum Confusion Matrix of Gaussian classifier')\n",
    "ac_1=accuracy_score(y_test, y_pred_1)\n",
    "pc_1=precision_score(y_test, y_pred_1)\n",
    "rc_1=recall_score(y_test, y_pred_1)\n",
    "fc_1=f1_score(y_test, y_pred_1)\n",
    "print('accuracy_score : ', ac_1)\n",
    "print('precision_score : ', pc_1)\n",
    "print('recall_score : ', rc_1)\n",
    "print('f1_score : ', fc_1)\n"
   ]
  },
  {
   "cell_type": "code",
   "execution_count": 90,
   "metadata": {},
   "outputs": [
    {
     "name": "stdout",
     "output_type": "stream",
     "text": [
      "[[22 11]\n",
      " [12 31]]\n"
     ]
    },
    {
     "data": {
      "image/png": "[encoded data removed]",
      "text/plain": [
       "<Figure size 432x288 with 2 Axes>"
      ]
     },
     "metadata": {
      "needs_background": "light"
     },
     "output_type": "display_data"
    }
   ],
   "source": [
    "cm_2=confusion_matrix(y_test, y_pred_2)\n",
    "print(cm_2)\n",
    "sn.heatmap(cm_2,annot=True)\n",
    "plt.title('Heatmap cum Confusion Matrix of Bernoulli classifier')\n",
    "ac_2=accuracy_score(y_test, y_pred_2)\n",
    "pc_2=precision_score(y_test, y_pred_2)\n",
    "rc_2=recall_score(y_test, y_pred_2)\n",
    "fc_2=f1_score(y_test, y_pred_2)"
   ]
  },
  {
   "cell_type": "code",
   "execution_count": 91,
   "metadata": {},
   "outputs": [
    {
     "name": "stdout",
     "output_type": "stream",
     "text": [
      "accuracy_score :  0.6973684210526315\n",
      "precision_score :  0.7380952380952381\n",
      "recall_score :  0.7209302325581395\n",
      "f1_score :  0.7294117647058824\n"
     ]
    }
   ],
   "source": [
    "print('accuracy_score : ', ac_2)\n",
    "print('precision_score : ', pc_2)\n",
    "print('recall_score : ',  rc_2)\n",
    "print('f1_score : ',  fc_2)"
   ]
  },
  {
   "cell_type": "markdown",
   "metadata": {},
   "source": [
    "### Step 9: Visualising the Training Set Results- GAUSSIAN CLASSIFIER"
   ]
  },
  {
   "cell_type": "code",
   "execution_count": 92,
   "metadata": {},
   "outputs": [
    {
     "name": "stderr",
     "output_type": "stream",
     "text": [
      "'c' argument looks like a single numeric RGB or RGBA sequence, which should be avoided as value-mapping will have precedence in case its length matches with 'x' & 'y'.  Please use a 2-D array with a single row if you really want to specify the same RGB or RGBA value for all points.\n",
      "'c' argument looks like a single numeric RGB or RGBA sequence, which should be avoided as value-mapping will have precedence in case its length matches with 'x' & 'y'.  Please use a 2-D array with a single row if you really want to specify the same RGB or RGBA value for all points.\n"
     ]
    },
    {
     "data": {
      "image/png": "[encoded data removed]",
      "text/plain": [
       "<Figure size 432x288 with 1 Axes>"
      ]
     },
     "metadata": {
      "needs_background": "light"
     },
     "output_type": "display_data"
    }
   ],
   "source": [
    "from matplotlib.colors import ListedColormap\n",
    "x_set, y_set= x_train, y_train\n",
    "x1,x2 = np.meshgrid(np.arange(start =x_set[:, 0].min() -1, stop=x_set[:, 0].max()+1, step = 0.01),\n",
    "                    np.arange(start =x_set[:, 1].min() -1, stop=x_set[:, 1].max()+1, step = 0.01))\n",
    "plt.contourf(x1,x2, gnb.predict(np.array([x1.ravel(), x2.ravel()]).T).reshape(x1.shape),alpha=0.75, \n",
    "             cmap = ListedColormap(('white','blue')))\n",
    "plt.xlim((x1.min(),x1.max()))\n",
    "plt.ylim((x2.min(),x2.max()))\n",
    "for i,j in enumerate(np.unique(y_set)):\n",
    "     plt.scatter(x_set[y_set==j,0], x_set[y_set==j,1], c= ListedColormap(('red','green'))(i) ,label= j)\n",
    "plt.title('Naive Bayes(Training Set) GAUSSIAN CLASSIFIER')\n",
    "plt.xlabel('Cholesterol')\n",
    "plt.ylabel('Heart Rate')\n",
    "plt.legend()\n",
    "plt.show()"
   ]
  },
  {
   "cell_type": "markdown",
   "metadata": {},
   "source": [
    "### Step 9b: Visualising the Training Set Results- BERNOULLI CLASSIFIER"
   ]
  },
  {
   "cell_type": "code",
   "execution_count": 93,
   "metadata": {},
   "outputs": [
    {
     "name": "stderr",
     "output_type": "stream",
     "text": [
      "'c' argument looks like a single numeric RGB or RGBA sequence, which should be avoided as value-mapping will have precedence in case its length matches with 'x' & 'y'.  Please use a 2-D array with a single row if you really want to specify the same RGB or RGBA value for all points.\n",
      "'c' argument looks like a single numeric RGB or RGBA sequence, which should be avoided as value-mapping will have precedence in case its length matches with 'x' & 'y'.  Please use a 2-D array with a single row if you really want to specify the same RGB or RGBA value for all points.\n"
     ]
    },
    {
     "data": {
      "image/png": "[encoded data removed]",
      "text/plain": [
       "<Figure size 432x288 with 1 Axes>"
      ]
     },
     "metadata": {
      "needs_background": "light"
     },
     "output_type": "display_data"
    }
   ],
   "source": [
    "from matplotlib.colors import ListedColormap\n",
    "x_set, y_set= x_train, y_train\n",
    "x1,x2 = np.meshgrid(np.arange(start =x_set[:, 0].min() -1, stop=x_set[:, 0].max()+1, step = 0.01),\n",
    "                    np.arange(start =x_set[:, 1].min() -1, stop=x_set[:, 1].max()+1, step = 0.01))\n",
    "plt.contourf(x1,x2, bnb.predict(np.array([x1.ravel(), x2.ravel()]).T).reshape(x1.shape),alpha=0.75, \n",
    "             cmap = ListedColormap(('white','blue')))\n",
    "plt.xlim((x1.min(),x1.max()))\n",
    "plt.ylim((x2.min(),x2.max()))\n",
    "for i,j in enumerate(np.unique(y_set)):\n",
    "     plt.scatter(x_set[y_set==j,0], x_set[y_set==j,1], c= ListedColormap(('red','green'))(i) ,label= j)\n",
    "plt.title('Naive Bayes(Training Set) BERNOULLI CLASSIFIER')\n",
    "plt.xlabel('Cholesterol')\n",
    "plt.ylabel('Heart Rate')\n",
    "plt.legend()\n",
    "plt.show()"
   ]
  },
  {
   "cell_type": "markdown",
   "metadata": {},
   "source": [
    "### Step 10: Visualising the Test Set Results- GAUSSIAN CLASSIFIER"
   ]
  },
  {
   "cell_type": "code",
   "execution_count": 96,
   "metadata": {},
   "outputs": [
    {
     "name": "stderr",
     "output_type": "stream",
     "text": [
      "'c' argument looks like a single numeric RGB or RGBA sequence, which should be avoided as value-mapping will have precedence in case its length matches with 'x' & 'y'.  Please use a 2-D array with a single row if you really want to specify the same RGB or RGBA value for all points.\n",
      "'c' argument looks like a single numeric RGB or RGBA sequence, which should be avoided as value-mapping will have precedence in case its length matches with 'x' & 'y'.  Please use a 2-D array with a single row if you really want to specify the same RGB or RGBA value for all points.\n"
     ]
    },
    {
     "data": {
      "image/png": "[encoded data removed]",
      "text/plain": [
       "<Figure size 432x288 with 1 Axes>"
      ]
     },
     "metadata": {
      "needs_background": "light"
     },
     "output_type": "display_data"
    }
   ],
   "source": [
    "from matplotlib.colors import ListedColormap\n",
    "x_set, y_set = x_test, y_test\n",
    "x1, x2 = np.meshgrid(np.arange(start = x_set[:, 0].min() - 1, stop = x_set[:, 0].max() + 1, step = 0.01),\n",
    "                     np.arange(start = x_set[:, 1].min() - 1, stop = x_set[:, 1].max() + 1, step = 0.01))\n",
    "plt.contourf(x1, x2, gnb.predict(np.array([x1.ravel(), x2.ravel()]).T).reshape(x1.shape),\n",
    "             alpha = 0.75, cmap = ListedColormap(('white', 'blue')))\n",
    "plt.xlim(x1.min(), x1.max())\n",
    "plt.ylim(x2.min(), x2.max())\n",
    "for i, j in enumerate(np.unique(y_set)):\n",
    "    plt.scatter(x_set[y_set == j, 0], x_set[y_set == j, 1],\n",
    "                c = ListedColormap(('red', 'green'))(i), label = j)\n",
    "plt.title('Niave Bayes(Test Set) GAUSSIAN CLASSIFIER')\n",
    "plt.xlabel('Cholesterol')\n",
    "plt.ylabel('Heart Rate')\n",
    "plt.legend()\n",
    "plt.show()"
   ]
  },
  {
   "cell_type": "markdown",
   "metadata": {},
   "source": [
    "### Step 10b: Visualising the Test Set Results- BERNOULLI CLASSIFIER"
   ]
  },
  {
   "cell_type": "code",
   "execution_count": 97,
   "metadata": {},
   "outputs": [
    {
     "name": "stderr",
     "output_type": "stream",
     "text": [
      "'c' argument looks like a single numeric RGB or RGBA sequence, which should be avoided as value-mapping will have precedence in case its length matches with 'x' & 'y'.  Please use a 2-D array with a single row if you really want to specify the same RGB or RGBA value for all points.\n",
      "'c' argument looks like a single numeric RGB or RGBA sequence, which should be avoided as value-mapping will have precedence in case its length matches with 'x' & 'y'.  Please use a 2-D array with a single row if you really want to specify the same RGB or RGBA value for all points.\n"
     ]
    },
    {
     "data": {
      "image/png": "[encoded data removed]",
      "text/plain": [
       "<Figure size 432x288 with 1 Axes>"
      ]
     },
     "metadata": {
      "needs_background": "light"
     },
     "output_type": "display_data"
    }
   ],
   "source": [
    "from matplotlib.colors import ListedColormap\n",
    "x_set, y_set = x_test, y_test\n",
    "x1, x2 = np.meshgrid(np.arange(start = x_set[:, 0].min() - 1, stop = x_set[:, 0].max() + 1, step = 0.01),\n",
    "                     np.arange(start = x_set[:, 1].min() - 1, stop = x_set[:, 1].max() + 1, step = 0.01))\n",
    "plt.contourf(x1, x2, bnb.predict(np.array([x1.ravel(), x2.ravel()]).T).reshape(x1.shape),\n",
    "             alpha = 0.75, cmap = ListedColormap(('white', 'blue')))\n",
    "plt.xlim(x1.min(), x1.max())\n",
    "plt.ylim(x2.min(), x2.max())\n",
    "for i, j in enumerate(np.unique(y_set)):\n",
    "    plt.scatter(x_set[y_set == j, 0], x_set[y_set == j, 1],\n",
    "                c = ListedColormap(('red', 'green'))(i), label = j)\n",
    "plt.title('Niave Bayes(Test Set) BERNOULLI CLASSIFIER')\n",
    "plt.xlabel('Cholesterol')\n",
    "plt.ylabel('Heart Rate')\n",
    "plt.legend()\n",
    "plt.show()"
   ]
  },
  {
   "cell_type": "code",
   "execution_count": null,
   "metadata": {},
   "outputs": [],
   "source": []
  }
 ],
 "metadata": {
  "kernelspec": {
   "display_name": "Python 3",
   "language": "python",
   "name": "python3"
  },
  "language_info": {
   "codemirror_mode": {
    "name": "ipython",
    "version": 3
   },
   "file_extension": ".py",
   "mimetype": "text/x-python",
   "name": "python",
   "nbconvert_exporter": "python",
   "pygments_lexer": "ipython3",
   "version": "3.7.6"
  }
 },
 "nbformat": 4,
 "nbformat_minor": 4
}
